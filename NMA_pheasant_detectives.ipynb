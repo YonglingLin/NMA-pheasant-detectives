{
  "nbformat": 4,
  "nbformat_minor": 0,
  "metadata": {
    "colab": {
      "name": "NMA-pheasant detectives.ipynb",
      "provenance": [],
      "authorship_tag": "ABX9TyNaH0nv/LRNT3QHeb97MpeW",
      "include_colab_link": true
    },
    "kernelspec": {
      "name": "python3",
      "display_name": "Python 3"
    },
    "language_info": {
      "name": "python"
    }
  },
  "cells": [
    {
      "cell_type": "markdown",
      "metadata": {
        "id": "view-in-github",
        "colab_type": "text"
      },
      "source": [
        "<a href=\"https://colab.research.google.com/github/hedy233/NMA-pheasant-detectives/blob/main/NMA_pheasant_detectives.ipynb\" target=\"_parent\"><img src=\"https://colab.research.google.com/assets/colab-badge.svg\" alt=\"Open In Colab\"/></a>"
      ]
    },
    {
      "cell_type": "code",
      "metadata": {
        "colab": {
          "base_uri": "https://localhost:8080/"
        },
        "id": "Qb9NjwVYjdZu",
        "outputId": "b14b800c-6644-47b2-84e1-ae4293b03b7b"
      },
      "source": [
        "!git clone https://github.com/hedy233/NMA-pheasant-detectives.git"
      ],
      "execution_count": 1,
      "outputs": [
        {
          "output_type": "stream",
          "text": [
            "Cloning into 'NMA-pheasant-detectives'...\n",
            "remote: Enumerating objects: 19, done.\u001b[K\n",
            "remote: Counting objects: 100% (19/19), done.\u001b[K\n",
            "remote: Compressing objects: 100% (19/19), done.\u001b[K\n",
            "remote: Total 19 (delta 2), reused 0 (delta 0), pack-reused 0\u001b[K\n",
            "Unpacking objects: 100% (19/19), done.\n"
          ],
          "name": "stdout"
        }
      ]
    },
    {
      "cell_type": "code",
      "metadata": {
        "colab": {
          "base_uri": "https://localhost:8080/"
        },
        "id": "YYlJa7-HjjaI",
        "outputId": "6c39a8c6-3218-4b14-b89c-16aa4cca06bc"
      },
      "source": [
        "!ls NMA-pheasant-detectives/"
      ],
      "execution_count": 3,
      "outputs": [
        {
          "output_type": "stream",
          "text": [
            "ERP_data_npz.zip  ERP_sub_5.npz\t\t\t    power_sub_3.npz\n",
            "ERP_sub_1.npz\t  facehouse_5sub_respdata_2nd.xlsx  power_sub_4.npz\n",
            "ERP_sub_2.npz\t  NMA_pheasant_detectives.ipynb     power_sub_5.npz\n",
            "ERP_sub_3.npz\t  power_sub_1.npz\n",
            "ERP_sub_4.npz\t  power_sub_2.npz\n"
          ],
          "name": "stdout"
        }
      ]
    },
    {
      "cell_type": "code",
      "metadata": {
        "id": "qXgSraWmjshs"
      },
      "source": [
        "import pandas as pd\n",
        "import numpy as np\n",
        "import matplotlib.pyplot as plt\n"
      ],
      "execution_count": 4,
      "outputs": []
    },
    {
      "cell_type": "code",
      "metadata": {
        "id": "PBQXbFvMw3Jf"
      },
      "source": [
        "behav = pd.ExcelFile('NMA-pheasant-detectives/facehouse_5sub_respdata_2nd.xlsx')\n",
        "behav_sub1 = pd.read_excel(behav,'sub1')\n",
        "behav_sub4 = pd.read_excel(behav,'sub4')\n",
        "behav_sub5 = pd.read_excel(behav,'sub5')\n",
        "behav_sub6 = pd.read_excel(behav,'sub6')\n",
        "behav_sub7 = pd.read_excel(behav,'sub7')\n",
        "behav_note = pd.read_excel(behav,'note')"
      ],
      "execution_count": 21,
      "outputs": []
    },
    {
      "cell_type": "code",
      "metadata": {
        "colab": {
          "base_uri": "https://localhost:8080/",
          "height": 419
        },
        "id": "0Mw5fggbxDVj",
        "outputId": "f0ea2484-f28a-4184-8056-677fc1d993ee"
      },
      "source": [
        "behav_sub1"
      ],
      "execution_count": 15,
      "outputs": [
        {
          "output_type": "execute_result",
          "data": {
            "text/html": [
              "<div>\n",
              "<style scoped>\n",
              "    .dataframe tbody tr th:only-of-type {\n",
              "        vertical-align: middle;\n",
              "    }\n",
              "\n",
              "    .dataframe tbody tr th {\n",
              "        vertical-align: top;\n",
              "    }\n",
              "\n",
              "    .dataframe thead th {\n",
              "        text-align: right;\n",
              "    }\n",
              "</style>\n",
              "<table border=\"1\" class=\"dataframe\">\n",
              "  <thead>\n",
              "    <tr style=\"text-align: right;\">\n",
              "      <th></th>\n",
              "      <th>stim_id</th>\n",
              "      <th>stim_noise</th>\n",
              "      <th>t_on</th>\n",
              "      <th>t_off</th>\n",
              "      <th>stim_cat</th>\n",
              "      <th>key_press</th>\n",
              "      <th>resp_acc</th>\n",
              "      <th>resp_time</th>\n",
              "    </tr>\n",
              "  </thead>\n",
              "  <tbody>\n",
              "    <tr>\n",
              "      <th>0</th>\n",
              "      <td>1</td>\n",
              "      <td>100</td>\n",
              "      <td>3080</td>\n",
              "      <td>4080</td>\n",
              "      <td>1</td>\n",
              "      <td>0</td>\n",
              "      <td>0</td>\n",
              "      <td>0</td>\n",
              "    </tr>\n",
              "    <tr>\n",
              "      <th>1</th>\n",
              "      <td>2</td>\n",
              "      <td>5</td>\n",
              "      <td>4080</td>\n",
              "      <td>5080</td>\n",
              "      <td>1</td>\n",
              "      <td>0</td>\n",
              "      <td>0</td>\n",
              "      <td>0</td>\n",
              "    </tr>\n",
              "    <tr>\n",
              "      <th>2</th>\n",
              "      <td>3</td>\n",
              "      <td>85</td>\n",
              "      <td>5080</td>\n",
              "      <td>6080</td>\n",
              "      <td>2</td>\n",
              "      <td>0</td>\n",
              "      <td>0</td>\n",
              "      <td>0</td>\n",
              "    </tr>\n",
              "    <tr>\n",
              "      <th>3</th>\n",
              "      <td>4</td>\n",
              "      <td>65</td>\n",
              "      <td>6080</td>\n",
              "      <td>7080</td>\n",
              "      <td>1</td>\n",
              "      <td>0</td>\n",
              "      <td>0</td>\n",
              "      <td>0</td>\n",
              "    </tr>\n",
              "    <tr>\n",
              "      <th>4</th>\n",
              "      <td>5</td>\n",
              "      <td>40</td>\n",
              "      <td>7080</td>\n",
              "      <td>8080</td>\n",
              "      <td>1</td>\n",
              "      <td>0</td>\n",
              "      <td>0</td>\n",
              "      <td>0</td>\n",
              "    </tr>\n",
              "    <tr>\n",
              "      <th>...</th>\n",
              "      <td>...</td>\n",
              "      <td>...</td>\n",
              "      <td>...</td>\n",
              "      <td>...</td>\n",
              "      <td>...</td>\n",
              "      <td>...</td>\n",
              "      <td>...</td>\n",
              "      <td>...</td>\n",
              "    </tr>\n",
              "    <tr>\n",
              "      <th>625</th>\n",
              "      <td>626</td>\n",
              "      <td>50</td>\n",
              "      <td>658280</td>\n",
              "      <td>659280</td>\n",
              "      <td>2</td>\n",
              "      <td>0</td>\n",
              "      <td>0</td>\n",
              "      <td>0</td>\n",
              "    </tr>\n",
              "    <tr>\n",
              "      <th>626</th>\n",
              "      <td>627</td>\n",
              "      <td>60</td>\n",
              "      <td>659280</td>\n",
              "      <td>660280</td>\n",
              "      <td>1</td>\n",
              "      <td>0</td>\n",
              "      <td>0</td>\n",
              "      <td>0</td>\n",
              "    </tr>\n",
              "    <tr>\n",
              "      <th>627</th>\n",
              "      <td>628</td>\n",
              "      <td>40</td>\n",
              "      <td>660280</td>\n",
              "      <td>661280</td>\n",
              "      <td>2</td>\n",
              "      <td>0</td>\n",
              "      <td>0</td>\n",
              "      <td>0</td>\n",
              "    </tr>\n",
              "    <tr>\n",
              "      <th>628</th>\n",
              "      <td>629</td>\n",
              "      <td>75</td>\n",
              "      <td>661280</td>\n",
              "      <td>662280</td>\n",
              "      <td>1</td>\n",
              "      <td>0</td>\n",
              "      <td>0</td>\n",
              "      <td>0</td>\n",
              "    </tr>\n",
              "    <tr>\n",
              "      <th>629</th>\n",
              "      <td>630</td>\n",
              "      <td>80</td>\n",
              "      <td>662280</td>\n",
              "      <td>663280</td>\n",
              "      <td>1</td>\n",
              "      <td>0</td>\n",
              "      <td>0</td>\n",
              "      <td>0</td>\n",
              "    </tr>\n",
              "  </tbody>\n",
              "</table>\n",
              "<p>630 rows × 8 columns</p>\n",
              "</div>"
            ],
            "text/plain": [
              "     stim_id  stim_noise    t_on  ...  key_press  resp_acc  resp_time\n",
              "0          1         100    3080  ...          0         0          0\n",
              "1          2           5    4080  ...          0         0          0\n",
              "2          3          85    5080  ...          0         0          0\n",
              "3          4          65    6080  ...          0         0          0\n",
              "4          5          40    7080  ...          0         0          0\n",
              "..       ...         ...     ...  ...        ...       ...        ...\n",
              "625      626          50  658280  ...          0         0          0\n",
              "626      627          60  659280  ...          0         0          0\n",
              "627      628          40  660280  ...          0         0          0\n",
              "628      629          75  661280  ...          0         0          0\n",
              "629      630          80  662280  ...          0         0          0\n",
              "\n",
              "[630 rows x 8 columns]"
            ]
          },
          "metadata": {
            "tags": []
          },
          "execution_count": 15
        }
      ]
    },
    {
      "cell_type": "code",
      "metadata": {
        "id": "zVkD1MvnxGTj"
      },
      "source": [
        "sub1_erp = np.load('NMA-pheasant-detectives/ERP_sub_1.npz')\n",
        "sub4_erp = np.load('NMA-pheasant-detectives/ERP_sub_2.npz')\n",
        "sub5_erp = np.load('NMA-pheasant-detectives/ERP_sub_3.npz')\n",
        "sub6_erp = np.load('NMA-pheasant-detectives/ERP_sub_4.npz')\n",
        "sub7_erp = np.load('NMA-pheasant-detectives/ERP_sub_5.npz')"
      ],
      "execution_count": 22,
      "outputs": []
    },
    {
      "cell_type": "code",
      "metadata": {
        "colab": {
          "base_uri": "https://localhost:8080/"
        },
        "id": "oAND7NVlKtUi",
        "outputId": "296f20d9-56d8-45e6-b9f2-eabe49f37407"
      },
      "source": [
        "sub1_erp.files"
      ],
      "execution_count": 26,
      "outputs": [
        {
          "output_type": "execute_result",
          "data": {
            "text/plain": [
              "['house', 'face']"
            ]
          },
          "metadata": {
            "tags": []
          },
          "execution_count": 26
        }
      ]
    },
    {
      "cell_type": "code",
      "metadata": {
        "colab": {
          "base_uri": "https://localhost:8080/"
        },
        "id": "4-iwFqFMKuxC",
        "outputId": "d857c17f-f698-4308-9c78-3250b856959a"
      },
      "source": [
        "sub1_erp['face']"
      ],
      "execution_count": 27,
      "outputs": [
        {
          "output_type": "execute_result",
          "data": {
            "text/plain": [
              "array([[1.00531014, 0.9054609 , 0.95778182, ..., 0.98769627, 1.00406938,\n",
              "        1.00833707],\n",
              "       [1.00416253, 0.90224056, 0.95786203, ..., 0.98705069, 1.00242087,\n",
              "        1.00895643],\n",
              "       [1.00305728, 0.89907983, 0.9580129 , ..., 0.98643767, 1.00079955,\n",
              "        1.00965029],\n",
              "       ...,\n",
              "       [0.97248817, 0.96773363, 0.99536561, ..., 1.00727441, 1.0459113 ,\n",
              "        1.03478307],\n",
              "       [0.97234226, 0.96722567, 0.99692049, ..., 1.00603995, 1.04479901,\n",
              "        1.03482076],\n",
              "       [0.97214432, 0.96671265, 0.99850029, ..., 1.00479172, 1.04368557,\n",
              "        1.03488258]])"
            ]
          },
          "metadata": {
            "tags": []
          },
          "execution_count": 27
        }
      ]
    },
    {
      "cell_type": "code",
      "metadata": {
        "id": "SXJOjOTALl_a"
      },
      "source": [
        "sub1_psd = np.load('NMA-pheasant-detectives/power_sub_1.npz')\n",
        "sub4_psd = np.load('NMA-pheasant-detectives/power_sub_2.npz')\n",
        "sub5_psd = np.load('NMA-pheasant-detectives/power_sub_3.npz')\n",
        "sub6_psd = np.load('NMA-pheasant-detectives/power_sub_4.npz')\n",
        "sub7_psd = np.load('NMA-pheasant-detectives/power_sub_5.npz')"
      ],
      "execution_count": 28,
      "outputs": []
    },
    {
      "cell_type": "code",
      "metadata": {
        "colab": {
          "base_uri": "https://localhost:8080/"
        },
        "id": "gSyB3989MBUx",
        "outputId": "45ccab96-0fcb-4db3-ef80-9c2f195eb99b"
      },
      "source": [
        "sub1_psd.files"
      ],
      "execution_count": 29,
      "outputs": [
        {
          "output_type": "execute_result",
          "data": {
            "text/plain": [
              "['house', 'face']"
            ]
          },
          "metadata": {
            "tags": []
          },
          "execution_count": 29
        }
      ]
    },
    {
      "cell_type": "code",
      "metadata": {
        "colab": {
          "base_uri": "https://localhost:8080/"
        },
        "id": "jtXQRPojMDOa",
        "outputId": "d885dc6f-d4d4-45af-9868-26ba73c821df"
      },
      "source": [
        "sub1_psd['face']"
      ],
      "execution_count": 30,
      "outputs": [
        {
          "output_type": "execute_result",
          "data": {
            "text/plain": [
              "array([[[ 1.13933821e-02-1.36248731e-01j,\n",
              "          3.45687927e-02-1.30899398e-01j,\n",
              "          5.65511353e-02-1.21901055e-01j, ...,\n",
              "         -2.78873585e-01-5.44565496e-02j,\n",
              "         -2.60170274e-01-9.46892829e-02j,\n",
              "         -2.35452086e-01-1.30506831e-01j],\n",
              "        [-1.30507355e-01-7.11463716e-02j,\n",
              "         -1.10565503e-01-1.02224408e-01j,\n",
              "         -8.30062179e-02-1.27829060e-01j, ...,\n",
              "          9.18286609e-03-1.36813558e-01j,\n",
              "          4.63264528e-02-1.29237435e-01j,\n",
              "          8.02183437e-02-1.13441422e-01j],\n",
              "        [-8.31883233e-02-1.14418890e-03j,\n",
              "         -7.81860915e-02-3.19699622e-02j,\n",
              "         -6.26944999e-02-5.89503540e-02j, ...,\n",
              "         -1.95823288e-02+2.52118801e-02j,\n",
              "         -2.76822160e-02+1.39234612e-02j,\n",
              "         -3.11128054e-02+4.97414817e-04j],\n",
              "        ...,\n",
              "        [ 1.08650823e-02+1.58460425e-03j,\n",
              "         -1.04143316e-02+1.20034673e-03j,\n",
              "          1.06066466e-02-3.79999167e-03j, ...,\n",
              "          1.29276260e-02+6.63965409e-03j,\n",
              "         -7.50120040e-03-3.27427057e-03j,\n",
              "          1.49383728e-02+1.33208075e-03j],\n",
              "        [ 8.36615324e-03+1.71047420e-03j,\n",
              "         -8.48877844e-03-2.44786499e-03j,\n",
              "          8.71683625e-03-6.21598132e-04j, ...,\n",
              "          1.36954382e-02+3.57994947e-03j,\n",
              "         -1.41158373e-02-3.49908379e-03j,\n",
              "          1.44767941e-02-1.09985638e-03j],\n",
              "        [ 1.17118988e-02+2.53842571e-03j,\n",
              "         -1.23861523e-02-1.81428152e-03j,\n",
              "          1.16625363e-02+1.05071823e-03j, ...,\n",
              "          1.24616867e-02+1.45226725e-03j,\n",
              "         -1.92393671e-02-6.79852781e-04j,\n",
              "          1.24119452e-02-5.11523429e-04j]],\n",
              "\n",
              "       [[ 2.51867038e-02-8.13706810e-02j,\n",
              "          3.66663397e-02-7.45300914e-02j,\n",
              "          4.69230407e-02-6.67163752e-02j, ...,\n",
              "         -4.46752645e-02-6.00615056e-02j,\n",
              "         -3.30127637e-02-6.91945409e-02j,\n",
              "         -2.01766202e-02-7.66965417e-02j],\n",
              "        [-2.11313665e-02-3.81712907e-02j,\n",
              "         -1.64856765e-02-4.24258951e-02j,\n",
              "         -1.02071398e-02-4.54997073e-02j, ...,\n",
              "          2.11513092e-01-1.73114714e-02j,\n",
              "          1.98099346e-01+3.57736733e-02j,\n",
              "          1.71419892e-01+8.25953643e-02j],\n",
              "        [-2.82034262e-02-1.80792632e-02j,\n",
              "         -2.03303820e-02-3.02611703e-02j,\n",
              "         -8.43592239e-03-3.82878385e-02j, ...,\n",
              "         -6.95001207e-02+1.35102144e-01j,\n",
              "         -1.07121994e-01+1.06275818e-01j,\n",
              "         -1.32538691e-01+6.84195046e-02j],\n",
              "        ...,\n",
              "        [-4.71164088e-03-2.54201480e-03j,\n",
              "          4.21347975e-04+1.24977001e-03j,\n",
              "         -4.83172954e-03-1.06474151e-03j, ...,\n",
              "         -2.36461523e-03-7.55727029e-04j,\n",
              "         -3.42721887e-03+1.61160115e-04j,\n",
              "         -3.44591385e-03-9.91712475e-04j],\n",
              "        [-7.13142973e-04-2.04338833e-03j,\n",
              "          1.05518295e-03-1.00263815e-03j,\n",
              "         -9.01639101e-04-8.97566882e-04j, ...,\n",
              "          2.44337861e-03+1.96500620e-03j,\n",
              "         -2.65043024e-03+2.28010276e-03j,\n",
              "          2.21894608e-03+2.20132279e-03j],\n",
              "        [ 3.93541330e-03+1.84866089e-03j,\n",
              "          7.87546972e-04-1.62833194e-03j,\n",
              "          3.38510313e-03+1.70751609e-03j, ...,\n",
              "          2.48194441e-03-9.32269707e-04j,\n",
              "          3.38526651e-03+1.04251841e-03j,\n",
              "          3.38281354e-03-7.98868597e-04j]],\n",
              "\n",
              "       [[ 2.17839460e-02-7.42806043e-02j,\n",
              "          3.50842478e-02-7.12607303e-02j,\n",
              "          4.79349476e-02-6.63198503e-02j, ...,\n",
              "          1.71671208e-02+3.93960395e-02j,\n",
              "          1.43144917e-02+4.11099189e-02j,\n",
              "          1.10971378e-02+4.34276118e-02j],\n",
              "        [-4.13459353e-02+6.17481853e-02j,\n",
              "         -5.67252075e-02+5.15613190e-02j,\n",
              "         -6.90636858e-02+3.73495105e-02j, ...,\n",
              "          1.63056172e-01-3.83326323e-02j,\n",
              "          1.65137495e-01+3.47165202e-03j,\n",
              "          1.57275667e-01+4.39238520e-02j],\n",
              "        [ 4.01524156e-02-4.75665776e-02j,\n",
              "          5.49804551e-02-3.26322517e-02j,\n",
              "          6.41765510e-02-1.26507571e-02j, ...,\n",
              "          1.14753738e-01+4.80793231e-02j,\n",
              "          9.15464845e-02+8.35741385e-02j,\n",
              "          5.78881813e-02+1.08431210e-01j],\n",
              "        ...,\n",
              "        [-8.26401300e-03-2.44807333e-03j,\n",
              "          9.17479089e-03+3.36668023e-04j,\n",
              "         -8.05264791e-03+1.94425642e-03j, ...,\n",
              "          4.02603622e-05-2.27780231e-03j,\n",
              "          4.96092140e-04+2.28484393e-03j,\n",
              "         -8.10276332e-04-2.11863106e-03j],\n",
              "        [-4.32306330e-03+1.78852723e-03j,\n",
              "          3.92713983e-03-2.86389126e-03j,\n",
              "         -3.35513623e-03+3.60209054e-03j, ...,\n",
              "         -6.32744653e-03-1.25244741e-03j,\n",
              "          6.43888119e-03+2.82331498e-04j,\n",
              "         -6.38510307e-03+2.84112831e-04j],\n",
              "        [-5.86028639e-03-1.89039351e-03j,\n",
              "          5.49035809e-03+1.55803786e-03j,\n",
              "         -6.57401464e-03-1.24622672e-03j, ...,\n",
              "         -1.09820167e-02+5.82442813e-03j,\n",
              "          1.07813878e-02-6.33914665e-03j,\n",
              "         -1.07652064e-02+6.83759871e-03j]],\n",
              "\n",
              "       ...,\n",
              "\n",
              "       [[-1.88918079e-01+1.81118562e-01j,\n",
              "         -2.15839935e-01+1.48154789e-01j,\n",
              "         -2.37066770e-01+1.11110888e-01j, ...,\n",
              "          5.79149476e-02+7.20924911e-02j,\n",
              "          4.02490276e-02+7.81929587e-02j,\n",
              "          2.22273343e-02+8.00474520e-02j],\n",
              "        [ 3.02230930e-02+2.54212712e-01j,\n",
              "         -3.15550313e-02+2.57115950e-01j,\n",
              "         -9.28273661e-02+2.44529643e-01j, ...,\n",
              "         -1.47256251e-01+4.84868078e-02j,\n",
              "         -1.56791012e-01+1.18725123e-02j,\n",
              "         -1.57901216e-01-2.53548975e-02j],\n",
              "        [ 6.20447423e-02+5.18205593e-02j,\n",
              "          4.16481954e-02+7.03210156e-02j,\n",
              "          1.64423370e-02+8.10669125e-02j, ...,\n",
              "         -6.22825102e-02+1.26198410e-02j,\n",
              "         -6.19200015e-02-8.37383606e-03j,\n",
              "         -5.44453037e-02-2.71065374e-02j],\n",
              "        ...,\n",
              "        [ 7.71454881e-03+1.37062363e-03j,\n",
              "         -6.38190430e-03+5.98822823e-04j,\n",
              "          7.38030740e-03-2.15511342e-03j, ...,\n",
              "          2.03531925e-03+7.08176992e-03j,\n",
              "         -8.43918135e-03-6.33877079e-03j,\n",
              "          4.22565288e-03+4.04826267e-03j],\n",
              "        [ 8.57645995e-03+1.63066962e-03j,\n",
              "         -8.76220638e-03+1.26018055e-03j,\n",
              "          8.48031515e-03-1.16067115e-03j, ...,\n",
              "          6.21797707e-04+5.55564107e-03j,\n",
              "         -1.54411450e-03-4.39432563e-03j,\n",
              "          2.28777494e-03+5.83824497e-03j],\n",
              "        [ 6.52892357e-03+9.35947031e-04j,\n",
              "         -7.94945691e-03-5.54710941e-04j,\n",
              "          6.55251264e-03+8.46308361e-05j, ...,\n",
              "          5.94610697e-03-3.73742649e-04j,\n",
              "         -1.17171054e-03+6.94470318e-04j,\n",
              "          6.61181879e-03-7.19113405e-04j]],\n",
              "\n",
              "       [[-1.96371446e-01-1.28505266e-01j,\n",
              "         -1.77077167e-01-1.51596221e-01j,\n",
              "         -1.54544167e-01-1.71626047e-01j, ...,\n",
              "         -5.42146072e-02-2.33835875e-03j,\n",
              "         -5.34042785e-02-1.10992257e-02j,\n",
              "         -5.12799596e-02-1.89659482e-02j],\n",
              "        [-8.82888765e-02-4.98739300e-02j,\n",
              "         -7.41436690e-02-7.22197785e-02j,\n",
              "         -5.47316645e-02-9.04053466e-02j, ...,\n",
              "         -7.45618449e-02-3.03950063e-02j,\n",
              "         -6.43648341e-02-4.74936399e-02j,\n",
              "         -4.96561341e-02-6.12438985e-02j],\n",
              "        [-3.06107345e-02+3.59893410e-02j,\n",
              "         -4.13932457e-02+1.98443027e-02j,\n",
              "         -4.63201759e-02+7.51056857e-04j, ...,\n",
              "          2.11068026e-03-4.20789282e-02j,\n",
              "          1.53951477e-02-3.82102540e-02j,\n",
              "          2.65990822e-02-3.10108185e-02j],\n",
              "        ...,\n",
              "        [-3.58277128e-04+4.49098323e-03j,\n",
              "         -1.21695315e-03-4.50245225e-03j,\n",
              "          1.79860785e-03+4.07360614e-03j, ...,\n",
              "         -9.96046708e-04+2.81043109e-03j,\n",
              "         -4.22143099e-04-2.95107786e-03j,\n",
              "          1.17885452e-03+2.72764903e-03j],\n",
              "        [ 4.77668738e-03+2.42636205e-03j,\n",
              "         -5.13253659e-03-6.37492095e-03j,\n",
              "          6.10643780e-03+8.24019179e-04j, ...,\n",
              "          1.74812863e-04+1.32784402e-03j,\n",
              "         -3.83998749e-04-7.90438597e-04j,\n",
              "          5.07044986e-04+5.31704202e-04j],\n",
              "        [ 5.28140344e-03-2.89814316e-04j,\n",
              "         -4.80966101e-03+6.67670086e-04j,\n",
              "          5.26362275e-03-1.00429959e-03j, ...,\n",
              "          2.61613528e-03-2.79658598e-03j,\n",
              "         -1.80533005e-03+2.87374193e-03j,\n",
              "          1.63920319e-03-2.90078889e-03j]],\n",
              "\n",
              "       [[-3.42576693e-02+9.78262051e-02j,\n",
              "         -4.92131371e-02+9.42982581e-02j,\n",
              "         -6.36165788e-02+8.86277302e-02j, ...,\n",
              "         -8.57754581e-02-4.73039048e-02j,\n",
              "         -7.86109548e-02-5.61210165e-02j,\n",
              "         -7.05488435e-02-6.36047638e-02j],\n",
              "        [-5.20463722e-02+5.02985812e-02j,\n",
              "         -6.70640600e-02+3.48309017e-02j,\n",
              "         -7.76703546e-02+1.58298228e-02j, ...,\n",
              "         -7.55035921e-02+2.54204310e-02j,\n",
              "         -7.95856709e-02+4.47784774e-03j,\n",
              "         -7.78264384e-02-1.63488265e-02j],\n",
              "        [ 3.68910024e-02+7.88351498e-02j,\n",
              "          9.30938346e-03+8.59402149e-02j,\n",
              "         -1.93211866e-02+8.34003436e-02j, ...,\n",
              "         -2.03745553e-03-5.27413193e-02j,\n",
              "          1.49479985e-02-5.04534093e-02j,\n",
              "          2.99328755e-02-4.32283690e-02j],\n",
              "        ...,\n",
              "        [ 1.48160061e-04-3.58006020e-03j,\n",
              "         -2.28923788e-03+3.52658765e-03j,\n",
              "         -1.82343138e-03-4.01603175e-03j, ...,\n",
              "         -2.23726820e-03+2.27005096e-03j,\n",
              "         -1.60804048e-04-2.77882336e-03j,\n",
              "         -6.75120368e-04+2.66397402e-03j],\n",
              "        [ 1.10151585e-03-1.26268549e-03j,\n",
              "         -8.80217349e-04-1.21760027e-04j,\n",
              "          8.98064922e-04-1.51528329e-03j, ...,\n",
              "         -4.37598875e-03+1.24538984e-03j,\n",
              "          4.04620235e-03-2.97610142e-03j,\n",
              "         -3.44599852e-03+2.20670556e-03j],\n",
              "        [ 2.20526481e-03-1.45818032e-03j,\n",
              "          9.56669781e-04+1.62098725e-03j,\n",
              "          2.06796823e-03-1.57875702e-03j, ...,\n",
              "         -5.20100079e-04+1.94675776e-03j,\n",
              "          2.24649577e-03-1.92408204e-03j,\n",
              "         -6.80408300e-04+2.01632602e-03j]]])"
            ]
          },
          "metadata": {
            "tags": []
          },
          "execution_count": 30
        }
      ]
    },
    {
      "cell_type": "code",
      "metadata": {
        "id": "bO0QevwNME6t"
      },
      "source": [
        ""
      ],
      "execution_count": null,
      "outputs": []
    }
  ]
}